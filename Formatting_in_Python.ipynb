{
 "cells": [
  {
   "cell_type": "markdown",
   "metadata": {},
   "source": [
    "String Formatting using % operator"
   ]
  },
  {
   "cell_type": "code",
   "execution_count": 1,
   "metadata": {},
   "outputs": [
    {
     "name": "stdout",
     "output_type": "stream",
     "text": [
      "My name is Sameer Shahi and I am 19 years old, I work as a Data Scientist at Fromsoftware.\n"
     ]
    }
   ],
   "source": [
    "Name=\"Sameer Shahi\"\n",
    "Age=19\n",
    "Profession=\"Data Scientist\"\n",
    "formatted_string_1=\"My name is %s and I am %d years old, I work as a %s at Fromsoftware.\"%(Name,Age,Profession)\n",
    "print(formatted_string_1)\n"
   ]
  },
  {
   "cell_type": "markdown",
   "metadata": {},
   "source": [
    "String Formatting using str.format() method"
   ]
  },
  {
   "cell_type": "code",
   "execution_count": 2,
   "metadata": {},
   "outputs": [
    {
     "name": "stdout",
     "output_type": "stream",
     "text": [
      "My name is Sameer Shahi and I am 19 years old, I work as a Data Scientist at Fromsoftware.\n"
     ]
    }
   ],
   "source": [
    "formatted_string_2=\"My name is {} and I am {} years old, I work as a {} at Fromsoftware.\".format(Name,Age,Profession)\n",
    "print(formatted_string_2)\n",
    "\n"
   ]
  },
  {
   "cell_type": "markdown",
   "metadata": {},
   "source": [
    "String Formatting using f-string literal\n"
   ]
  },
  {
   "cell_type": "code",
   "execution_count": 3,
   "metadata": {},
   "outputs": [
    {
     "name": "stdout",
     "output_type": "stream",
     "text": [
      "My name is Sameer Shahi and I am 19 years old, I work as a Data Scientist at Fromsoftware.\n"
     ]
    }
   ],
   "source": [
    "formatted_string_3=f\"My name is {Name} and I am {Age} years old, I work as a {Profession} at Fromsoftware.\"\n",
    "print(formatted_string_3)\n"
   ]
  },
  {
   "cell_type": "markdown",
   "metadata": {},
   "source": [
    "DateTime Formatting\n"
   ]
  },
  {
   "cell_type": "code",
   "execution_count": 8,
   "metadata": {},
   "outputs": [
    {
     "name": "stdout",
     "output_type": "stream",
     "text": [
      "Current DateTime:\t 2024-05-14 12:02:12.634738\n",
      "Formatted Date:\t  2024 - 05 - 14 \n",
      "Formatted Time:\t  12: 02: 12 \n"
     ]
    }
   ],
   "source": [
    "import datetime\n",
    "current_datetime=datetime.datetime.now()\n",
    "formatted_date=current_datetime.strftime(\" %Y - %m - %d \")\n",
    "formatted_time=current_datetime.strftime(\" %H: %M: %S \")\n",
    "print(\"Current DateTime:\\t\",current_datetime)\n",
    "print(\"Formatted Date:\\t\",formatted_date)\n",
    "print(\"Formatted Time:\\t\",formatted_time)\n",
    "\n"
   ]
  },
  {
   "cell_type": "markdown",
   "metadata": {},
   "source": [
    "Formatting Data Structures\n"
   ]
  },
  {
   "cell_type": "code",
   "execution_count": 10,
   "metadata": {},
   "outputs": [
    {
     "name": "stdout",
     "output_type": "stream",
     "text": [
      "Name:Alex,Age:20,City:London,Position:Head Data Analyst,Salary:500000\n"
     ]
    }
   ],
   "source": [
    "#Formatting a dictionary\n",
    "\n",
    "Employee={\"Name\":\"Alex\",\"Age\":20,\"City\":\"London\",\"Position\":\"Head Data Analyst\",\"Salary\":500000}\n",
    "formatted_employee=\",\".join(f\"{key}:{value}\"for key,value in Employee.items())\n",
    "print(formatted_employee)\n",
    "\n"
   ]
  },
  {
   "cell_type": "code",
   "execution_count": 11,
   "metadata": {},
   "outputs": [
    {
     "name": "stdout",
     "output_type": "stream",
     "text": [
      "Formatted list: 2,4,6,8,10,13,15,17\n"
     ]
    }
   ],
   "source": [
    "#Formatting a list\n",
    "\n",
    "list_1=[2,4,6,8,10,13,15,17]\n",
    "formatted_list=\",\".join(str(num) for num in list_1)\n",
    "print(\"Formatted list:\",formatted_list)\n",
    "\n"
   ]
  }
 ],
 "metadata": {
  "kernelspec": {
   "display_name": "base",
   "language": "python",
   "name": "python3"
  },
  "language_info": {
   "codemirror_mode": {
    "name": "ipython",
    "version": 3
   },
   "file_extension": ".py",
   "mimetype": "text/x-python",
   "name": "python",
   "nbconvert_exporter": "python",
   "pygments_lexer": "ipython3",
   "version": "3.11.4"
  }
 },
 "nbformat": 4,
 "nbformat_minor": 2
}
